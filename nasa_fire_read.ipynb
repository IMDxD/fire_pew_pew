{
 "cells": [
  {
   "cell_type": "code",
   "execution_count": 2,
   "id": "846ade03-d7fd-433e-a017-efddb220063e",
   "metadata": {},
   "outputs": [],
   "source": [
    "%config Completer.use_jedi = False"
   ]
  },
  {
   "cell_type": "code",
   "execution_count": 1,
   "id": "852b5699-8154-43a1-acd3-3d022d9fe77e",
   "metadata": {},
   "outputs": [],
   "source": [
    "import zipfile\n",
    "from pathlib import Path\n",
    "from datetime import timedelta\n",
    "\n",
    "import dbf\n",
    "import geopandas as gpd\n",
    "import numpy as np\n",
    "import pandas as pd\n",
    "import pyproj\n",
    "from shapely.geometry import Polygon, LineString\n",
    "from shapely.ops import nearest_points"
   ]
  },
  {
   "cell_type": "code",
   "execution_count": 3,
   "id": "fa4190eb-5845-481c-b8d5-8aaf38364aaf",
   "metadata": {},
   "outputs": [],
   "source": [
    "NASA_FIRE_LINK = \"https://drive.google.com/file/d/10wbXaFTG8RyolfGzvI8SFQ1XzHi4tTQr/view?usp=sharing\"\n",
    "NASA_FIRE_ID = \"10wbXaFTG8RyolfGzvI8SFQ1XzHi4tTQr\"\n",
    "TRAIN_FILE_LINK = \"https://drive.google.com/file/d/11_Wjbxsdrgt-DFGJELumk51elHOLkgpQ/view?usp=sharing\"\n",
    "TRAIN_ID = \"11_Wjbxsdrgt-DFGJELumk51elHOLkgpQ\""
   ]
  },
  {
   "cell_type": "code",
   "execution_count": 4,
   "id": "629730cd-20a7-4e82-a29b-11a570a0e7aa",
   "metadata": {},
   "outputs": [
    {
     "name": "stderr",
     "output_type": "stream",
     "text": [
      "Downloading...\n",
      "From: https://drive.google.com/uc?id=10wbXaFTG8RyolfGzvI8SFQ1XzHi4tTQr\n",
      "To: E:\\fire\\data\\NASA.zip\n",
      "\n",
      "  0%|          | 0.00/14.1M [00:00<?, ?B/s]\n",
      " 15%|#4        | 2.10M/14.1M [00:00<00:00, 19.1MB/s]\n",
      " 30%|##9       | 4.19M/14.1M [00:00<00:00, 17.9MB/s]\n",
      " 48%|####8     | 6.82M/14.1M [00:00<00:00, 19.4MB/s]\n",
      " 63%|######3   | 8.91M/14.1M [00:00<00:00, 18.7MB/s]\n",
      " 82%|########1 | 11.5M/14.1M [00:00<00:00, 18.7MB/s]\n",
      "100%|##########| 14.1M/14.1M [00:00<00:00, 22.4MB/s]\n"
     ]
    }
   ],
   "source": [
    "!gdown --id $NASA_FIRE_ID -O data/NASA.zip"
   ]
  },
  {
   "cell_type": "code",
   "execution_count": 5,
   "id": "19bc09d4-eb1d-4e5f-8cd5-2efd86ca0f36",
   "metadata": {},
   "outputs": [
    {
     "name": "stderr",
     "output_type": "stream",
     "text": [
      "Downloading...\n",
      "From: https://drive.google.com/uc?id=11_Wjbxsdrgt-DFGJELumk51elHOLkgpQ\n",
      "To: E:\\fire\\data\\train.csv\n",
      "\n",
      "  0%|          | 0.00/34.4M [00:00<?, ?B/s]\n",
      "  3%|3         | 1.05M/34.4M [00:00<00:03, 10.3MB/s]\n",
      "  9%|9         | 3.15M/34.4M [00:00<00:02, 14.6MB/s]\n",
      " 24%|##4       | 8.39M/34.4M [00:00<00:00, 30.4MB/s]\n",
      " 34%|###3      | 11.5M/34.4M [00:00<00:01, 19.3MB/s]\n",
      " 43%|####2     | 14.7M/34.4M [00:00<00:00, 21.2MB/s]\n",
      " 50%|#####     | 17.3M/34.4M [00:00<00:00, 22.2MB/s]\n",
      " 58%|#####7    | 19.9M/34.4M [00:00<00:00, 22.8MB/s]\n",
      " 65%|######5   | 22.5M/34.4M [00:01<00:00, 23.0MB/s]\n",
      " 73%|#######3  | 25.2M/34.4M [00:01<00:00, 17.0MB/s]\n",
      " 81%|########  | 27.8M/34.4M [00:01<00:00, 18.2MB/s]\n",
      " 97%|#########7| 33.6M/34.4M [00:01<00:00, 26.9MB/s]\n",
      "100%|##########| 34.4M/34.4M [00:01<00:00, 22.3MB/s]\n"
     ]
    }
   ],
   "source": [
    "!gdown --id $TRAIN_ID -O data/train.csv"
   ]
  },
  {
   "cell_type": "code",
   "execution_count": 6,
   "id": "42368d83-7457-45e6-a028-2702a35bc48c",
   "metadata": {},
   "outputs": [],
   "source": [
    "with zipfile.ZipFile(\"data/NASA.zip\") as file:\n",
    "    file.extractall(path=\"data\")"
   ]
  },
  {
   "cell_type": "code",
   "execution_count": 3,
   "id": "acd36cbd-c7aa-4449-9377-7e78bb6e9429",
   "metadata": {},
   "outputs": [],
   "source": [
    "fire_path = Path(\"data/DL_FIRE/\")\n",
    "geo_files = fire_path.rglob(\"*.shp\")\n",
    "nasa_fire = None\n",
    "for file in geo_files:\n",
    "    if nasa_fire is None:\n",
    "        nasa_fire = gpd.read_file(file)\n",
    "    else:\n",
    "        nasa_fire = pd.concat([nasa_fire, gpd.read_file(file)], ignore_index=True)"
   ]
  },
  {
   "cell_type": "code",
   "execution_count": 4,
   "id": "ca1509a0-20cd-48c6-a381-51961b6eaa45",
   "metadata": {},
   "outputs": [
    {
     "data": {
      "text/plain": [
       "(3121446, 16)"
      ]
     },
     "execution_count": 4,
     "metadata": {},
     "output_type": "execute_result"
    }
   ],
   "source": [
    "nasa_fire.shape"
   ]
  },
  {
   "cell_type": "code",
   "execution_count": 5,
   "id": "93c39c18-4087-441c-919b-d72c2997a8fe",
   "metadata": {},
   "outputs": [],
   "source": [
    "nasa_fire[\"ACQ_DATE\"] = pd.to_datetime(nasa_fire[\"ACQ_DATE\"], format=\"%Y-%m-%d\")"
   ]
  },
  {
   "cell_type": "code",
   "execution_count": 6,
   "id": "07b12ba6-fc34-46e4-bd61-405548266fe4",
   "metadata": {},
   "outputs": [],
   "source": [
    "train = pd.read_csv(\"data/train.csv\")"
   ]
  },
  {
   "cell_type": "code",
   "execution_count": 7,
   "id": "6a16d21d-a372-4360-bb1d-5c311295a842",
   "metadata": {},
   "outputs": [
    {
     "data": {
      "text/html": [
       "<div>\n",
       "<style scoped>\n",
       "    .dataframe tbody tr th:only-of-type {\n",
       "        vertical-align: middle;\n",
       "    }\n",
       "\n",
       "    .dataframe tbody tr th {\n",
       "        vertical-align: top;\n",
       "    }\n",
       "\n",
       "    .dataframe thead th {\n",
       "        text-align: right;\n",
       "    }\n",
       "</style>\n",
       "<table border=\"1\" class=\"dataframe\">\n",
       "  <thead>\n",
       "    <tr style=\"text-align: right;\">\n",
       "      <th></th>\n",
       "      <th>dt</th>\n",
       "      <th>lon_min</th>\n",
       "      <th>lat_min</th>\n",
       "      <th>lon_max</th>\n",
       "      <th>lat_max</th>\n",
       "      <th>lon</th>\n",
       "      <th>lat</th>\n",
       "      <th>grid_index</th>\n",
       "      <th>type_id</th>\n",
       "      <th>type_name</th>\n",
       "      <th>is_land</th>\n",
       "      <th>infire_day_1</th>\n",
       "      <th>infire_day_2</th>\n",
       "      <th>infire_day_3</th>\n",
       "      <th>infire_day_4</th>\n",
       "      <th>infire_day_5</th>\n",
       "      <th>infire_day_6</th>\n",
       "      <th>infire_day_7</th>\n",
       "      <th>infire_day_8</th>\n",
       "    </tr>\n",
       "  </thead>\n",
       "  <tbody>\n",
       "    <tr>\n",
       "      <th>0</th>\n",
       "      <td>2020-05-04</td>\n",
       "      <td>47.6</td>\n",
       "      <td>41.0</td>\n",
       "      <td>47.8</td>\n",
       "      <td>41.2</td>\n",
       "      <td>NaN</td>\n",
       "      <td>NaN</td>\n",
       "      <td>143</td>\n",
       "      <td>NaN</td>\n",
       "      <td>NaN</td>\n",
       "      <td>False</td>\n",
       "      <td>0</td>\n",
       "      <td>0</td>\n",
       "      <td>0</td>\n",
       "      <td>0</td>\n",
       "      <td>0</td>\n",
       "      <td>0</td>\n",
       "      <td>0</td>\n",
       "      <td>0</td>\n",
       "    </tr>\n",
       "    <tr>\n",
       "      <th>1</th>\n",
       "      <td>2021-02-24</td>\n",
       "      <td>47.2</td>\n",
       "      <td>41.2</td>\n",
       "      <td>47.4</td>\n",
       "      <td>41.4</td>\n",
       "      <td>NaN</td>\n",
       "      <td>NaN</td>\n",
       "      <td>891</td>\n",
       "      <td>NaN</td>\n",
       "      <td>NaN</td>\n",
       "      <td>False</td>\n",
       "      <td>0</td>\n",
       "      <td>0</td>\n",
       "      <td>0</td>\n",
       "      <td>0</td>\n",
       "      <td>0</td>\n",
       "      <td>0</td>\n",
       "      <td>0</td>\n",
       "      <td>0</td>\n",
       "    </tr>\n",
       "    <tr>\n",
       "      <th>2</th>\n",
       "      <td>2021-02-27</td>\n",
       "      <td>47.2</td>\n",
       "      <td>41.2</td>\n",
       "      <td>47.4</td>\n",
       "      <td>41.4</td>\n",
       "      <td>NaN</td>\n",
       "      <td>NaN</td>\n",
       "      <td>891</td>\n",
       "      <td>NaN</td>\n",
       "      <td>NaN</td>\n",
       "      <td>False</td>\n",
       "      <td>0</td>\n",
       "      <td>0</td>\n",
       "      <td>0</td>\n",
       "      <td>0</td>\n",
       "      <td>0</td>\n",
       "      <td>0</td>\n",
       "      <td>0</td>\n",
       "      <td>0</td>\n",
       "    </tr>\n",
       "    <tr>\n",
       "      <th>3</th>\n",
       "      <td>2021-04-01</td>\n",
       "      <td>47.4</td>\n",
       "      <td>41.2</td>\n",
       "      <td>47.6</td>\n",
       "      <td>41.4</td>\n",
       "      <td>NaN</td>\n",
       "      <td>NaN</td>\n",
       "      <td>892</td>\n",
       "      <td>NaN</td>\n",
       "      <td>NaN</td>\n",
       "      <td>True</td>\n",
       "      <td>0</td>\n",
       "      <td>0</td>\n",
       "      <td>0</td>\n",
       "      <td>0</td>\n",
       "      <td>0</td>\n",
       "      <td>0</td>\n",
       "      <td>0</td>\n",
       "      <td>0</td>\n",
       "    </tr>\n",
       "    <tr>\n",
       "      <th>4</th>\n",
       "      <td>2020-03-14</td>\n",
       "      <td>47.6</td>\n",
       "      <td>41.2</td>\n",
       "      <td>47.8</td>\n",
       "      <td>41.4</td>\n",
       "      <td>NaN</td>\n",
       "      <td>NaN</td>\n",
       "      <td>893</td>\n",
       "      <td>NaN</td>\n",
       "      <td>NaN</td>\n",
       "      <td>True</td>\n",
       "      <td>0</td>\n",
       "      <td>0</td>\n",
       "      <td>0</td>\n",
       "      <td>0</td>\n",
       "      <td>0</td>\n",
       "      <td>0</td>\n",
       "      <td>0</td>\n",
       "      <td>0</td>\n",
       "    </tr>\n",
       "  </tbody>\n",
       "</table>\n",
       "</div>"
      ],
      "text/plain": [
       "           dt  lon_min  lat_min  lon_max  lat_max  lon  lat  grid_index  \\\n",
       "0  2020-05-04     47.6     41.0     47.8     41.2  NaN  NaN         143   \n",
       "1  2021-02-24     47.2     41.2     47.4     41.4  NaN  NaN         891   \n",
       "2  2021-02-27     47.2     41.2     47.4     41.4  NaN  NaN         891   \n",
       "3  2021-04-01     47.4     41.2     47.6     41.4  NaN  NaN         892   \n",
       "4  2020-03-14     47.6     41.2     47.8     41.4  NaN  NaN         893   \n",
       "\n",
       "   type_id type_name  is_land  infire_day_1  infire_day_2  infire_day_3  \\\n",
       "0      NaN       NaN    False             0             0             0   \n",
       "1      NaN       NaN    False             0             0             0   \n",
       "2      NaN       NaN    False             0             0             0   \n",
       "3      NaN       NaN     True             0             0             0   \n",
       "4      NaN       NaN     True             0             0             0   \n",
       "\n",
       "   infire_day_4  infire_day_5  infire_day_6  infire_day_7  infire_day_8  \n",
       "0             0             0             0             0             0  \n",
       "1             0             0             0             0             0  \n",
       "2             0             0             0             0             0  \n",
       "3             0             0             0             0             0  \n",
       "4             0             0             0             0             0  "
      ]
     },
     "execution_count": 7,
     "metadata": {},
     "output_type": "execute_result"
    }
   ],
   "source": [
    "train.head()"
   ]
  },
  {
   "cell_type": "code",
   "execution_count": 8,
   "id": "f44c0730-e96f-4dcb-a757-3069f6063a5e",
   "metadata": {},
   "outputs": [
    {
     "data": {
      "text/html": [
       "<div>\n",
       "<style scoped>\n",
       "    .dataframe tbody tr th:only-of-type {\n",
       "        vertical-align: middle;\n",
       "    }\n",
       "\n",
       "    .dataframe tbody tr th {\n",
       "        vertical-align: top;\n",
       "    }\n",
       "\n",
       "    .dataframe thead th {\n",
       "        text-align: right;\n",
       "    }\n",
       "</style>\n",
       "<table border=\"1\" class=\"dataframe\">\n",
       "  <thead>\n",
       "    <tr style=\"text-align: right;\">\n",
       "      <th></th>\n",
       "      <th>LATITUDE</th>\n",
       "      <th>LONGITUDE</th>\n",
       "      <th>BRIGHTNESS</th>\n",
       "      <th>SCAN</th>\n",
       "      <th>TRACK</th>\n",
       "      <th>ACQ_DATE</th>\n",
       "      <th>ACQ_TIME</th>\n",
       "      <th>SATELLITE</th>\n",
       "      <th>INSTRUMENT</th>\n",
       "      <th>CONFIDENCE</th>\n",
       "      <th>VERSION</th>\n",
       "      <th>BRIGHT_T31</th>\n",
       "      <th>FRP</th>\n",
       "      <th>DAYNIGHT</th>\n",
       "      <th>geometry</th>\n",
       "      <th>TYPE</th>\n",
       "    </tr>\n",
       "  </thead>\n",
       "  <tbody>\n",
       "    <tr>\n",
       "      <th>0</th>\n",
       "      <td>68.41773</td>\n",
       "      <td>83.62501</td>\n",
       "      <td>367.0</td>\n",
       "      <td>0.68</td>\n",
       "      <td>0.74</td>\n",
       "      <td>2020-01-01</td>\n",
       "      <td>0118</td>\n",
       "      <td>1</td>\n",
       "      <td>VIIRS</td>\n",
       "      <td>h</td>\n",
       "      <td>2.0NRT</td>\n",
       "      <td>238.6</td>\n",
       "      <td>13.6</td>\n",
       "      <td>N</td>\n",
       "      <td>POINT (83.62501 68.41773)</td>\n",
       "      <td>NaN</td>\n",
       "    </tr>\n",
       "    <tr>\n",
       "      <th>1</th>\n",
       "      <td>68.61677</td>\n",
       "      <td>57.97244</td>\n",
       "      <td>351.2</td>\n",
       "      <td>0.40</td>\n",
       "      <td>0.60</td>\n",
       "      <td>2020-01-01</td>\n",
       "      <td>0118</td>\n",
       "      <td>1</td>\n",
       "      <td>VIIRS</td>\n",
       "      <td>n</td>\n",
       "      <td>2.0NRT</td>\n",
       "      <td>263.0</td>\n",
       "      <td>7.1</td>\n",
       "      <td>N</td>\n",
       "      <td>POINT (57.97244 68.61677)</td>\n",
       "      <td>NaN</td>\n",
       "    </tr>\n",
       "    <tr>\n",
       "      <th>2</th>\n",
       "      <td>67.59256</td>\n",
       "      <td>83.24406</td>\n",
       "      <td>329.0</td>\n",
       "      <td>0.78</td>\n",
       "      <td>0.78</td>\n",
       "      <td>2020-01-01</td>\n",
       "      <td>0118</td>\n",
       "      <td>1</td>\n",
       "      <td>VIIRS</td>\n",
       "      <td>n</td>\n",
       "      <td>2.0NRT</td>\n",
       "      <td>249.3</td>\n",
       "      <td>6.3</td>\n",
       "      <td>N</td>\n",
       "      <td>POINT (83.24406 67.59256)</td>\n",
       "      <td>NaN</td>\n",
       "    </tr>\n",
       "    <tr>\n",
       "      <th>3</th>\n",
       "      <td>67.59792</td>\n",
       "      <td>83.25304</td>\n",
       "      <td>338.8</td>\n",
       "      <td>0.78</td>\n",
       "      <td>0.78</td>\n",
       "      <td>2020-01-01</td>\n",
       "      <td>0118</td>\n",
       "      <td>1</td>\n",
       "      <td>VIIRS</td>\n",
       "      <td>n</td>\n",
       "      <td>2.0NRT</td>\n",
       "      <td>248.2</td>\n",
       "      <td>6.2</td>\n",
       "      <td>N</td>\n",
       "      <td>POINT (83.25304 67.59792)</td>\n",
       "      <td>NaN</td>\n",
       "    </tr>\n",
       "    <tr>\n",
       "      <th>4</th>\n",
       "      <td>68.61971</td>\n",
       "      <td>57.96733</td>\n",
       "      <td>332.4</td>\n",
       "      <td>0.40</td>\n",
       "      <td>0.60</td>\n",
       "      <td>2020-01-01</td>\n",
       "      <td>0118</td>\n",
       "      <td>1</td>\n",
       "      <td>VIIRS</td>\n",
       "      <td>n</td>\n",
       "      <td>2.0NRT</td>\n",
       "      <td>260.8</td>\n",
       "      <td>5.8</td>\n",
       "      <td>N</td>\n",
       "      <td>POINT (57.96733 68.61971)</td>\n",
       "      <td>NaN</td>\n",
       "    </tr>\n",
       "  </tbody>\n",
       "</table>\n",
       "</div>"
      ],
      "text/plain": [
       "   LATITUDE  LONGITUDE  BRIGHTNESS  SCAN  TRACK   ACQ_DATE ACQ_TIME SATELLITE  \\\n",
       "0  68.41773   83.62501       367.0  0.68   0.74 2020-01-01     0118         1   \n",
       "1  68.61677   57.97244       351.2  0.40   0.60 2020-01-01     0118         1   \n",
       "2  67.59256   83.24406       329.0  0.78   0.78 2020-01-01     0118         1   \n",
       "3  67.59792   83.25304       338.8  0.78   0.78 2020-01-01     0118         1   \n",
       "4  68.61971   57.96733       332.4  0.40   0.60 2020-01-01     0118         1   \n",
       "\n",
       "  INSTRUMENT CONFIDENCE VERSION  BRIGHT_T31   FRP DAYNIGHT  \\\n",
       "0      VIIRS          h  2.0NRT       238.6  13.6        N   \n",
       "1      VIIRS          n  2.0NRT       263.0   7.1        N   \n",
       "2      VIIRS          n  2.0NRT       249.3   6.3        N   \n",
       "3      VIIRS          n  2.0NRT       248.2   6.2        N   \n",
       "4      VIIRS          n  2.0NRT       260.8   5.8        N   \n",
       "\n",
       "                    geometry  TYPE  \n",
       "0  POINT (83.62501 68.41773)   NaN  \n",
       "1  POINT (57.97244 68.61677)   NaN  \n",
       "2  POINT (83.24406 67.59256)   NaN  \n",
       "3  POINT (83.25304 67.59792)   NaN  \n",
       "4  POINT (57.96733 68.61971)   NaN  "
      ]
     },
     "execution_count": 8,
     "metadata": {},
     "output_type": "execute_result"
    }
   ],
   "source": [
    "nasa_fire.head()"
   ]
  },
  {
   "cell_type": "code",
   "execution_count": 9,
   "id": "2f54eea4-867c-4e6d-8a50-0ec4cfed889a",
   "metadata": {},
   "outputs": [],
   "source": [
    "nasa_fire.sort_values(\"ACQ_TIME\", inplace=True)"
   ]
  },
  {
   "cell_type": "code",
   "execution_count": 10,
   "id": "841a06ff-0418-4dcc-983f-3f1c49100585",
   "metadata": {},
   "outputs": [],
   "source": [
    "nasa_fire.drop_duplicates([\"LATITUDE\", \"LONGITUDE\", \"ACQ_DATE\", \"INSTRUMENT\"], keep=\"last\", inplace=True)"
   ]
  },
  {
   "cell_type": "code",
   "execution_count": 11,
   "id": "2222ea75-d15d-438b-a87f-9e5c33e16d12",
   "metadata": {},
   "outputs": [
    {
     "data": {
      "text/plain": [
       "(3121199, 16)"
      ]
     },
     "execution_count": 11,
     "metadata": {},
     "output_type": "execute_result"
    }
   ],
   "source": [
    "nasa_fire.shape"
   ]
  },
  {
   "cell_type": "code",
   "execution_count": 12,
   "id": "15f5c348-a857-49ce-a0f5-01f1ea998f70",
   "metadata": {},
   "outputs": [],
   "source": [
    "nasa_fire[\"train_date\"] = nasa_fire[\"ACQ_DATE\"] + timedelta(days=1)"
   ]
  },
  {
   "cell_type": "code",
   "execution_count": 13,
   "id": "992c36a2-549f-47c2-9bf8-f2c43c64e412",
   "metadata": {},
   "outputs": [],
   "source": [
    "train[\"id\"] = np.arange(train.shape[0])\n",
    "nasa_fire[\"id\"] = np.arange(nasa_fire.shape[0])"
   ]
  },
  {
   "cell_type": "code",
   "execution_count": 14,
   "id": "9f9783d5-b004-4979-b13d-a217ee7a2c9c",
   "metadata": {},
   "outputs": [],
   "source": [
    "train[\"dt\"] = pd.to_datetime(train[\"dt\"], format=\"%Y-%m-%d\")"
   ]
  },
  {
   "cell_type": "code",
   "execution_count": 15,
   "id": "294f9e58-13ce-450a-821e-6e203d80983a",
   "metadata": {},
   "outputs": [],
   "source": [
    "train[\"polygon\"] = train.apply(\n",
    "    lambda x: \n",
    "    Polygon(\n",
    "        np.column_stack((\n",
    "            np.array([x[\"lon_min\"], x[\"lon_min\"], x[\"lon_max\"], x[\"lon_max\"]]),\n",
    "            np.array([x[\"lat_min\"], x[\"lat_max\"], x[\"lat_min\"], x[\"lat_max\"]])\n",
    "        ))\n",
    "    ), \n",
    "    axis=1\n",
    ")"
   ]
  },
  {
   "cell_type": "code",
   "execution_count": 16,
   "id": "212f566e-6e9e-4d35-ad53-f5b9b58ffb0c",
   "metadata": {},
   "outputs": [],
   "source": [
    "nasa_fire[\"Month\"] = nasa_fire[\"ACQ_DATE\"].dt.month"
   ]
  },
  {
   "cell_type": "code",
   "execution_count": 18,
   "id": "95075101-66a8-46ed-b136-3c8632e10b9d",
   "metadata": {},
   "outputs": [],
   "source": [
    "nasa_ids = []\n",
    "for date, poly in zip(train[\"dt\"], train[\"polygon\"]):\n",
    "    for i, point in zip(\n",
    "            nasa_fire.loc[nasa_fire[\"train_date\"] == date, \"id\"], \n",
    "            nasa_fire.loc[nasa_fire[\"train_date\"] == date, \"geometry\"]\n",
    "    ):\n",
    "        if poly.contains(point):\n",
    "            nasa_ids.append(i)\n",
    "            break\n",
    "    else:\n",
    "        nasa_ids.append(-1)"
   ]
  },
  {
   "cell_type": "code",
   "execution_count": 19,
   "id": "5800016f-15ba-4762-b060-e1916fba0a55",
   "metadata": {},
   "outputs": [],
   "source": [
    "train[\"nasa_id\"] = nasa_ids"
   ]
  },
  {
   "cell_type": "code",
   "execution_count": 20,
   "id": "e41bf61c-b093-4ca2-ae34-6847b836ca4e",
   "metadata": {},
   "outputs": [],
   "source": [
    "train_cols = [\n",
    "    'dt', 'lon_min', 'lat_min', 'lon_max', 'lat_max', 'lon', 'lat',\n",
    "    'grid_index', 'type_id', 'type_name', 'is_land', 'infire_day_1',\n",
    "    'infire_day_2', 'infire_day_3', 'infire_day_4', 'infire_day_5',\n",
    "    'infire_day_6', 'infire_day_7', 'infire_day_8',\n",
    "    'nasa_id'\n",
    "]"
   ]
  },
  {
   "cell_type": "code",
   "execution_count": 21,
   "id": "97064e02-d6ad-4c30-83e3-19da1f3a9d5e",
   "metadata": {},
   "outputs": [],
   "source": [
    "nasa_fire_cols = [\n",
    "    'LATITUDE', 'LONGITUDE', 'BRIGHTNESS', 'SCAN', 'TRACK',\n",
    "    'ACQ_TIME', 'SATELLITE', 'CONFIDENCE',\n",
    "    'BRIGHT_T31', 'FRP', 'DAYNIGHT', 'TYPE', 'id'\n",
    "]"
   ]
  },
  {
   "cell_type": "code",
   "execution_count": 22,
   "id": "ce212b10-7056-49ba-a93e-5d6d53246261",
   "metadata": {},
   "outputs": [],
   "source": [
    "df = pd.merge(train[train_cols], nasa_fire[nasa_fire_cols], how=\"inner\", left_on=\"nasa_id\", right_on=\"id\")"
   ]
  },
  {
   "cell_type": "code",
   "execution_count": 23,
   "id": "4dfebf21-64b2-4257-ad14-323495d44910",
   "metadata": {},
   "outputs": [],
   "source": [
    "df.to_csv(\"merged.csv\", index=None)"
   ]
  },
  {
   "cell_type": "code",
   "execution_count": 27,
   "id": "c911054f-1cd3-4b02-9c9e-b55480a98b05",
   "metadata": {},
   "outputs": [
    {
     "data": {
      "text/plain": [
       "infire_day_1    0.440180\n",
       "infire_day_2    0.368089\n",
       "infire_day_3    0.319024\n",
       "infire_day_4    0.279107\n",
       "infire_day_5    0.246597\n",
       "infire_day_6    0.222478\n",
       "infire_day_7    0.205364\n",
       "infire_day_8    0.188830\n",
       "dtype: float64"
      ]
     },
     "execution_count": 27,
     "metadata": {},
     "output_type": "execute_result"
    }
   ],
   "source": [
    "df[[col for col in df.columns if col.startswith(\"infire\")]].mean()"
   ]
  },
  {
   "cell_type": "code",
   "execution_count": null,
   "id": "1573bd77-3c9d-4570-91ce-e6a5f4f56537",
   "metadata": {},
   "outputs": [],
   "source": []
  }
 ],
 "metadata": {
  "kernelspec": {
   "display_name": "Python 3 (ipykernel)",
   "language": "python",
   "name": "python3"
  },
  "language_info": {
   "codemirror_mode": {
    "name": "ipython",
    "version": 3
   },
   "file_extension": ".py",
   "mimetype": "text/x-python",
   "name": "python",
   "nbconvert_exporter": "python",
   "pygments_lexer": "ipython3",
   "version": "3.8.12"
  }
 },
 "nbformat": 4,
 "nbformat_minor": 5
}
